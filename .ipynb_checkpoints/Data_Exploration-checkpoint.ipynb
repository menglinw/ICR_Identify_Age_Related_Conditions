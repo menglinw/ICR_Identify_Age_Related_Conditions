{
 "cells": [
  {
   "cell_type": "code",
   "execution_count": 2,
   "id": "15481f22",
   "metadata": {},
   "outputs": [],
   "source": [
    "import pandas as pd\n",
    "import numpy as np"
   ]
  },
  {
   "cell_type": "code",
   "execution_count": 4,
   "id": "624f53bc",
   "metadata": {},
   "outputs": [],
   "source": [
    "train_data = pd.read_csv('data/train.csv')\n",
    "test_data = pd.read_csv('data/test.csv')\n",
    "sample_sub = pd.read_csv('data/sample_submission.csv')\n",
    "greeks = pd.read_csv('data/greeks.csv')"
   ]
  },
  {
   "cell_type": "code",
   "execution_count": 6,
   "id": "208f9064",
   "metadata": {},
   "outputs": [
    {
     "data": {
      "text/plain": [
       "(617, 58)"
      ]
     },
     "execution_count": 6,
     "metadata": {},
     "output_type": "execute_result"
    }
   ],
   "source": [
    "train_data.shape"
   ]
  },
  {
   "cell_type": "code",
   "execution_count": null,
   "id": "c9aa75cc",
   "metadata": {},
   "outputs": [],
   "source": []
  }
 ],
 "metadata": {
  "kernelspec": {
   "display_name": "Python [conda env:for_kaggle]",
   "language": "python",
   "name": "conda-env-for_kaggle-py"
  },
  "language_info": {
   "codemirror_mode": {
    "name": "ipython",
    "version": 3
   },
   "file_extension": ".py",
   "mimetype": "text/x-python",
   "name": "python",
   "nbconvert_exporter": "python",
   "pygments_lexer": "ipython3",
   "version": "3.11.3"
  }
 },
 "nbformat": 4,
 "nbformat_minor": 5
}
